{
 "cells": [
  {
   "cell_type": "markdown",
   "id": "9cf89eba",
   "metadata": {},
   "source": [
    "# Examen Parcial 4 \n",
    "## Sebastian Garcia - 22291\n",
    "## Cisco packet tracer -xxxx\n",
    "## Olivier Viau - 23544\n",
    "## Javier algo - xxxx"
   ]
  },
  {
   "cell_type": "markdown",
   "id": "49525762",
   "metadata": {},
   "source": [
    "Análisis del Problema de Monty Hall\n",
    "\n",
    "Un concursante debe elegir 1 puerta entre 3 (todas cerradas); el premio consiste en llevarse lo que se encuentra detrás de la puerta elegida. Se sabe con certeza que tras una de ellas hay un premio, y tras las otras dos no hay premio.\n",
    "\n",
    "Una vez que el concursante haya elegido una puerta y comunicado su elección a los presentes, el presentador, que sabe lo que hay detrás de cada puerta, abrirá una de las otras dos, en la que no habrá premio. A continuación, le da la opción al concursante de cambiar, si lo desea, de puerta.\n",
    "\n",
    "Pregunta 1. ¿Debe el concursante mantener su elección original o escoger la otra puerta?\n",
    "\n",
    "Pregunta 2. ¿Existe alguna diferencia en la estrategia si en lugar de 3 se tienen 5 puertas (1 con premio y 4 sin premio)?"
   ]
  },
  {
   "cell_type": "code",
   "execution_count": 29,
   "id": "5c14edc4",
   "metadata": {},
   "outputs": [],
   "source": [
    "import random \n",
    "\n",
    "puertas = []\n",
    "puerta_ganadora = []\n",
    "puerta_abierta = []\n",
    "\n",
    "def puerta_elegida(n):\n",
    "    if n <= 0.33:\n",
    "        return 0\n",
    "    elif 0.33< n <= 0.66:\n",
    "        return 1\n",
    "    else:\n",
    "        return 2\n",
    "\n",
    "random.seed(2025)\n",
    "for i in range(100):\n",
    "\n",
    "    #Se pone el premio detras de una puerta\n",
    "    p = random.random()\n",
    "    puerta_ganadora.append(puerta_elegida(p))\n",
    "    \n",
    "    # El usuario elige una puerta\n",
    "    n = random.random() \n",
    "    puertas.append(puerta_elegida(n))\n",
    "\n",
    "    # EL del juego escoge cualquier puerta de la que no se haya elegido\n",
    "    e = random.random()\n",
    "\n",
    "    while (puerta_elegida(e) == puertas[i]) or puerta_elegida(e) == puerta_ganadora[i]:\n",
    "        e = random.random()\n",
    "\n",
    "    puerta_abierta.append(puerta_elegida(e))\n",
    "\n",
    "\n",
    "\n"
   ]
  },
  {
   "cell_type": "code",
   "execution_count": 30,
   "id": "1307b604",
   "metadata": {},
   "outputs": [
    {
     "name": "stdout",
     "output_type": "stream",
     "text": [
      "[1, 0, 0, 2, 2, 2, 0, 1, 1, 1, 1, 0, 0, 0, 1, 1, 0, 1, 0, 2, 2, 0, 2, 0, 2, 0, 1, 2, 2, 1, 0, 1, 1, 0, 1, 0, 2, 2, 0, 1, 1, 0, 1, 0, 2, 0, 2, 0, 0, 1, 2, 1, 1, 1, 1, 0, 0, 0, 2, 0, 0, 0, 1, 1, 2, 1, 2, 1, 2, 0, 2, 1, 2, 2, 0, 0, 0, 1, 1, 1, 0, 0, 2, 0, 2, 0, 0, 1, 0, 0, 1, 1, 0, 1, 2, 0, 2, 2, 1, 1]\n",
      "[1, 2, 1, 0, 0, 1, 0, 1, 0, 2, 2, 1, 0, 1, 2, 1, 0, 2, 1, 0, 0, 1, 2, 2, 1, 2, 1, 2, 1, 0, 2, 0, 0, 0, 2, 1, 1, 1, 2, 2, 1, 2, 0, 1, 0, 2, 1, 1, 1, 2, 2, 1, 2, 2, 1, 0, 0, 2, 0, 2, 2, 2, 2, 2, 0, 1, 0, 1, 2, 0, 0, 1, 1, 0, 2, 1, 0, 0, 0, 1, 0, 1, 2, 0, 0, 2, 1, 1, 1, 1, 0, 2, 0, 0, 0, 1, 0, 1, 1, 0]\n",
      "[0, 1, 2, 1, 1, 0, 2, 2, 2, 0, 0, 2, 1, 2, 0, 2, 1, 0, 2, 1, 1, 2, 1, 1, 0, 1, 2, 0, 0, 2, 1, 2, 2, 2, 0, 2, 0, 0, 1, 0, 2, 1, 2, 2, 1, 1, 0, 2, 2, 0, 0, 0, 0, 0, 0, 1, 2, 1, 1, 1, 1, 1, 0, 0, 1, 0, 1, 0, 0, 1, 1, 0, 0, 1, 1, 2, 1, 2, 2, 0, 1, 2, 0, 2, 1, 1, 2, 0, 2, 2, 2, 0, 2, 2, 1, 2, 1, 0, 0, 2]\n"
     ]
    }
   ],
   "source": [
    "print(puerta_ganadora)\n",
    "print(puertas)\n",
    "print(puerta_abierta)\n"
   ]
  }
 ],
 "metadata": {
  "kernelspec": {
   "display_name": "Python 3",
   "language": "python",
   "name": "python3"
  },
  "language_info": {
   "codemirror_mode": {
    "name": "ipython",
    "version": 3
   },
   "file_extension": ".py",
   "mimetype": "text/x-python",
   "name": "python",
   "nbconvert_exporter": "python",
   "pygments_lexer": "ipython3",
   "version": "3.12.9"
  }
 },
 "nbformat": 4,
 "nbformat_minor": 5
}
